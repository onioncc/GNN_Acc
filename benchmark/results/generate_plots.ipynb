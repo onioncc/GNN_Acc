{
 "cells": [
  {
   "cell_type": "code",
   "execution_count": 1,
   "id": "623149b2-cea3-4d99-8d3e-f6304a409947",
   "metadata": {},
   "outputs": [],
   "source": [
    "import io\n",
    "import os\n",
    "import pandas as pd\n",
    "import matplotlib.pyplot as plt\n",
    "import seaborn as sns"
   ]
  },
  {
   "cell_type": "code",
   "execution_count": 2,
   "id": "8c58785d-df72-4518-96e8-7a1474fbddc3",
   "metadata": {},
   "outputs": [],
   "source": [
    "DATASETS = {\n",
    "    'ogbg-molhiv': 'MolHIV',\n",
    "    'dgn-hiv': 'MolHIV',\n",
    "    'ogbg-molpcba': 'MolPCBA',\n",
    "    'dgn-pcba': 'MolPCBA',\n",
    "    'molhiv': 'MolHIV',\n",
    "    'molpcba': 'MolPCBA',\n",
    "    'dgn-cora': 'Cora',\n",
    "    'dgn-citeseer': 'CiteSeer',\n",
    "    'dgn-pubmed': 'PubMed',\n",
    "    'cora': 'Cora',\n",
    "    'citeseer': 'CiteSeer',\n",
    "    'pubmed': 'PubMed',\n",
    "}\n",
    "\n",
    "MODELS = {\n",
    "    'gin': 'GIN',\n",
    "    'gin-virtual-node': 'GIN+VN',\n",
    "    'gcn': 'GCN',\n",
    "    'gcn-virtual-node': 'GCN+VN',\n",
    "    'gat': 'GAT',\n",
    "    'pna': 'PNA',\n",
    "    'dgn-hiv': 'DGN',\n",
    "    'dgn-pcba': 'DGN',\n",
    "    'dgn': 'DGN',\n",
    "}"
   ]
  },
  {
   "cell_type": "code",
   "execution_count": 3,
   "id": "9422090f-d8f1-442f-a1be-87abd41d4de3",
   "metadata": {},
   "outputs": [],
   "source": [
    "cpu_csv = pd.read_csv('cpu.csv')\n",
    "cuda_csv = pd.read_csv('cuda.csv')"
   ]
  },
  {
   "cell_type": "code",
   "execution_count": 4,
   "id": "c631106f-a749-4258-9ec2-0ecbc5f2ac4a",
   "metadata": {},
   "outputs": [],
   "source": [
    "def read_opencl_summary(path, section='Kernel Execution'):\n",
    "    with open(path) as f:\n",
    "        f_iter = iter(f)\n",
    "        try:\n",
    "            while True:\n",
    "                section_name = next(f_iter).rstrip('\\n')\n",
    "                section_lines = io.StringIO()\n",
    "                for line in f_iter:\n",
    "                    if not line.rstrip('\\n'):\n",
    "                        break\n",
    "                    section_lines.write(line)\n",
    "                section_lines.seek(0)\n",
    "                if section_name == section:\n",
    "                    return pd.read_csv(section_lines)\n",
    "        except StopIteration:\n",
    "            pass"
   ]
  },
  {
   "cell_type": "code",
   "execution_count": 5,
   "id": "305001f1-78fa-49a5-94e4-b0d4601300e5",
   "metadata": {},
   "outputs": [],
   "source": [
    "gengnn_dfs = []\n",
    "for entry in os.scandir('fpga'):\n",
    "    if not entry.is_dir():\n",
    "        continue\n",
    "    dataset = DATASETS[entry.name]\n",
    "    for subentry in os.scandir(entry.path):\n",
    "        if not subentry.is_file():\n",
    "            continue\n",
    "        basename, ext = os.path.splitext(subentry.name)\n",
    "        model = MODELS[basename]\n",
    "\n",
    "        summary_csv = read_opencl_summary(subentry.path)\n",
    "        summary_csv['Device'] = 'GenGNN'\n",
    "        summary_csv['Dataset'] = dataset\n",
    "        summary_csv['Model'] = model\n",
    "        summary_csv['Latency'] = summary_csv['Average Time (ms)']\n",
    "        gengnn_dfs.append(summary_csv)"
   ]
  },
  {
   "cell_type": "code",
   "execution_count": 6,
   "id": "02543eb4-fcb0-4e17-8f87-350d44fb79a1",
   "metadata": {},
   "outputs": [],
   "source": [
    "df = pd.concat([cpu_csv, cuda_csv], keys=['CPU', 'GPU'], names=['Device'])\n",
    "df.reset_index(level='Device', inplace=True)\n",
    "df = df[df['Batch size'] == 1]\n",
    "df['Dataset'] = df['Dataset name'].map(DATASETS)\n",
    "df['Model'] = df['Model name'].map(MODELS)\n",
    "df['Latency'] = df['Average run time per graph'] * 1e3\n",
    "df = pd.concat([df, *gengnn_dfs])\n",
    "df = df[['Device', 'Dataset', 'Model', 'Latency']]\n",
    "\n",
    "molhiv = df[df['Dataset'] == 'MolHIV']\n",
    "molpcba = df[df['Dataset'] == 'MolPCBA']"
   ]
  },
  {
   "cell_type": "code",
   "execution_count": 7,
   "id": "bfe07709-09c8-4ba8-855b-5e08cc29af3d",
   "metadata": {},
   "outputs": [],
   "source": [
    "sns.set_theme(style='whitegrid')"
   ]
  },
  {
   "cell_type": "code",
   "execution_count": 8,
   "id": "6c98bcdc-f338-4721-b452-eb9b5408b26b",
   "metadata": {},
   "outputs": [
    {
     "data": {
      "image/png": "[encoded data removed]",
      "text/plain": [
       "<Figure size 576x576 with 2 Axes>"
      ]
     },
     "metadata": {},
     "output_type": "display_data"
    }
   ],
   "source": [
    "fig, (ax_molhiv, ax_molpcba) = plt.subplots(2, 1, figsize=(8, 8))\n",
    "\n",
    "sns.barplot(x='Model', y='Latency', hue='Device', ci=None, data=molhiv, ax=ax_molhiv)\n",
    "ax_molhiv.set(xlabel=None, ylabel='Avg. latency per graph (ms)', title='MolHIV');\n",
    "ax_molhiv.legend().set_title(None);\n",
    "\n",
    "sns.barplot(x='Model', y='Latency', hue='Device', ci=None, data=molpcba, ax=ax_molpcba)\n",
    "ax_molpcba.set(xlabel=None, ylabel='Avg. latency per graph (ms)', title='MolPCBA');\n",
    "ax_molpcba.legend().set_title(None);\n",
    "\n",
    "fig.savefig('results.pdf', bbox_inches='tight')"
   ]
  },
  {
   "cell_type": "code",
   "execution_count": 9,
   "id": "4c72b65a-5ab5-4c3a-9e23-aa7327719fd1",
   "metadata": {},
   "outputs": [],
   "source": [
    "cpu_large_csv = pd.read_csv('cpu.large.csv')\n",
    "cuda_large_csv = pd.read_csv('cuda.large.csv')"
   ]
  },
  {
   "cell_type": "code",
   "execution_count": 10,
   "id": "650398cc-0ca3-4488-a876-4ec6e73c754e",
   "metadata": {},
   "outputs": [],
   "source": [
    "lg_gengnn_dfs = []\n",
    "for entry in os.scandir('large'):\n",
    "    if not entry.is_file():\n",
    "        continue\n",
    "    basename, ext = os.path.splitext(entry.name)\n",
    "    dataset = DATASETS[basename]\n",
    "\n",
    "    summary_csv = read_opencl_summary(entry.path)\n",
    "    summary_csv['Device'] = 'GenGNN'\n",
    "    summary_csv['Dataset'] = dataset\n",
    "    summary_csv['Model'] = 'DGN'\n",
    "    summary_csv['Latency'] = summary_csv['Average Time (ms)']\n",
    "    lg_gengnn_dfs.append(summary_csv)"
   ]
  },
  {
   "cell_type": "code",
   "execution_count": 11,
   "id": "0d08675a-b84f-4981-945d-086951402b6a",
   "metadata": {},
   "outputs": [],
   "source": [
    "lg_df = pd.concat([cpu_large_csv, cuda_large_csv], keys=['CPU', 'GPU'], names=['Device'])\n",
    "lg_df.reset_index(level='Device', inplace=True)\n",
    "lg_df = lg_df[lg_df['Batch size'] == 1]\n",
    "lg_df['Dataset'] = lg_df['Dataset name'].map(DATASETS)\n",
    "lg_df['Model'] = lg_df['Model name'].map(MODELS)\n",
    "lg_df['Latency'] = lg_df['Average run time per graph'] * 1e3\n",
    "lg_df = pd.concat([lg_df, *lg_gengnn_dfs])\n",
    "lg_df = lg_df[['Device', 'Dataset', 'Model', 'Latency']]"
   ]
  },
  {
   "cell_type": "code",
   "execution_count": 12,
   "id": "77e07cdb-d7a5-4beb-9f74-7f833991cdf6",
   "metadata": {},
   "outputs": [
    {
     "data": {
      "image/png": "[encoded data removed]",
      "text/plain": [
       "<Figure size 432x288 with 1 Axes>"
      ]
     },
     "metadata": {},
     "output_type": "display_data"
    }
   ],
   "source": [
    "ax = sns.barplot(x='Dataset', y='Latency', hue='Device', ci=None, data=lg_df)\n",
    "ax.set(xlabel=None, ylabel='Latency (ms)');\n",
    "ax.legend().set_title(None);\n",
    "\n",
    "ax.get_figure().savefig('results_large.pdf', bbox_inches='tight')"
   ]
  }
 ],
 "metadata": {
  "kernelspec": {
   "display_name": "Python 3",
   "language": "python",
   "name": "python3"
  },
  "language_info": {
   "codemirror_mode": {
    "name": "ipython",
    "version": 3
   },
   "file_extension": ".py",
   "mimetype": "text/x-python",
   "name": "python",
   "nbconvert_exporter": "python",
   "pygments_lexer": "ipython3",
   "version": "3.9.7"
  }
 },
 "nbformat": 4,
 "nbformat_minor": 5
}
